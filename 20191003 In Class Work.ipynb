{
 "cells": [
  {
   "cell_type": "code",
   "execution_count": 56,
   "metadata": {},
   "outputs": [
    {
     "name": "stdout",
     "output_type": "stream",
     "text": [
      "87.5\n",
      "83.33333333333333\n",
      "10.222222222222221\n",
      "3.9377878103709665\n",
      "7.0\n",
      "2.9832867780352594\n"
     ]
    }
   ],
   "source": [
    "def mean (values):\n",
    "    s = 0.0;\n",
    "    for val in values:\n",
    "        s += val;\n",
    "    return s/len(values);\n",
    "\n",
    "def weightedMean(values, weights):\n",
    "    #So, normally I would check to make sure the arrays are the same lenght, but we'll just assume they are.\n",
    "    s = 0.0;\n",
    "    for x in range(len(values)):\n",
    "        s += values[x] * weights[x];\n",
    "        \n",
    "    return s;\n",
    "\n",
    "def stdDev(values):\n",
    "    m = mean(values);\n",
    "    s = 0.0;\n",
    "    for val in values:\n",
    "        s += (val - m)**2;\n",
    "        \n",
    "    #print(s);\n",
    "    #print(m);\n",
    "    #print(len(values));\n",
    "    return ((s/len(values))**(1/2));\n",
    "\n",
    "#inputValues = [int(x) for x in input().split()];\n",
    "#print(inputValues);\n",
    "#inputWeights = [float(x) for x in input().split()];\n",
    "inputValues = [100,100,50];\n",
    "inputWeights = [.5,.25,.25];\n",
    "#inputValues = [100,90,70,30];\n",
    "#inputWeights = [.4,.1,.3,.3];\n",
    "\n",
    "#inputValues = [100,100];\n",
    "#inputWeights = [.75,.25];\n",
    "\n",
    "print (weightedMean(inputValues,inputWeights));\n",
    "print (mean(inputValues));\n",
    "\n",
    "inputValues = [4, 9, 11, 12, 17, 5, 8, 12, 14]\n",
    "print (mean(inputValues));\n",
    "print (stdDev(inputValues));\n",
    "\n",
    "inputValues = [9, 2, 5, 4, 12, 7, 8, 11, 9, 3, 7, 4, 12, 5, 4, 10, 9, 6, 9, 4]\n",
    "print (mean(inputValues));\n",
    "print (stdDev(inputValues));\n",
    "        \n",
    "\n",
    "    \n",
    "    "
   ]
  },
  {
   "cell_type": "code",
   "execution_count": 60,
   "metadata": {},
   "outputs": [
    {
     "name": "stdout",
     "output_type": "stream",
     "text": [
      "Grades are: 95.57 \n"
     ]
    }
   ],
   "source": [
    "def classGrade(homework, tests, quizes, projects, weights):\n",
    "    #First, we'll make an array of the averages of the grade groups.\n",
    "    scores = [mean(homework), mean(tests), mean(quizes), mean(projects)];\n",
    "    \n",
    "    #print(scores);\n",
    "    \n",
    "    ret = weightedMean(scores, weights);\n",
    "    \n",
    "    return ret;\n",
    "    \n",
    "    \n",
    "homework = [90,95,83,92,99];\n",
    "tests = [100,99,89];\n",
    "quizes = [100,100];\n",
    "projects = [90,95,100];\n",
    "\n",
    "classWeights = [.15,.3,.15,.4];\n",
    "\n",
    "print (\"Grades are: %s \" % classGrade(homework, tests, quizes, projects, classWeights));\n"
   ]
  }
 ],
 "metadata": {
  "kernelspec": {
   "display_name": "Python 3",
   "language": "python",
   "name": "python3"
  },
  "language_info": {
   "codemirror_mode": {
    "name": "ipython",
    "version": 3
   },
   "file_extension": ".py",
   "mimetype": "text/x-python",
   "name": "python",
   "nbconvert_exporter": "python",
   "pygments_lexer": "ipython3",
   "version": "3.7.3"
  }
 },
 "nbformat": 4,
 "nbformat_minor": 2
}
